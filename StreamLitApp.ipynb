{
 "cells": [
  {
   "cell_type": "code",
   "execution_count": 5,
   "id": "8496d292-87e1-41cc-9f9d-8a043083b0df",
   "metadata": {},
   "outputs": [],
   "source": [
    "import streamlit as st\n",
    "import pandas as pd\n",
    "import sqlite3\n"
   ]
  },
  {
   "cell_type": "markdown",
   "id": "fbad6e9b-ac54-4cfe-91a3-628b49d2d8d5",
   "metadata": {},
   "source": [
    "## Run Streamlit App"
   ]
  },
  {
   "cell_type": "code",
   "execution_count": null,
   "id": "954fa3dd-90e3-432f-85eb-2a822dfc117a",
   "metadata": {},
   "outputs": [],
   "source": [
    "!streamlit run app.py"
   ]
  },
  {
   "cell_type": "code",
   "execution_count": null,
   "id": "cd131cbd-e773-4b28-b778-297a1bcbc70a",
   "metadata": {},
   "outputs": [],
   "source": []
  }
 ],
 "metadata": {
  "kernelspec": {
   "display_name": "Python 3 (ipykernel)",
   "language": "python",
   "name": "python3"
  },
  "language_info": {
   "codemirror_mode": {
    "name": "ipython",
    "version": 3
   },
   "file_extension": ".py",
   "mimetype": "text/x-python",
   "name": "python",
   "nbconvert_exporter": "python",
   "pygments_lexer": "ipython3",
   "version": "3.13.5"
  }
 },
 "nbformat": 4,
 "nbformat_minor": 5
}
