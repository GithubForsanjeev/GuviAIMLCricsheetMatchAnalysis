{
 "cells": [
  {
   "cell_type": "markdown",
   "id": "f2b4ac4e-da2f-440e-a40f-1fd28eb96b38",
   "metadata": {},
   "source": [
    "## SQLITE DATABASE"
   ]
  },
  {
   "cell_type": "markdown",
   "id": "61cdea31-e67d-41f9-813c-87f5820f6793",
   "metadata": {},
   "source": [
    "## Define Paths & Match Formats"
   ]
  },
  {
   "cell_type": "code",
   "execution_count": null,
   "id": "353739e7-692a-452f-88f3-87aec931742c",
   "metadata": {},
   "outputs": [],
   "source": [
    "import os, json\n",
    "import pandas as pd\n",
    "import sqlite3\n",
    "from pathlib import Path\n",
    "from sqlalchemy import create_engine\n",
    "\n",
    "engine = create_engine(\"sqlite:///cricket_matches.db\")  \n",
    "\n",
    "\n",
    "match_paths = {\n",
    "    \"Test\": \"data/tests_json/\",\n",
    "    \"ODI\": \"data/odis_json/\",\n",
    "    \"T20\": \"data/it20s_json/\"\n",
    "}\n"
   ]
  },
  {
   "cell_type": "markdown",
   "id": "cb122e06-bbd5-47eb-be66-f4ff4b2397bd",
   "metadata": {},
   "source": [
    "## Parse JSON into DataFrames"
   ]
  },
  {
   "cell_type": "code",
   "execution_count": 58,
   "id": "ea2c056e-4fb5-41d4-b3bc-af0727eeb70f",
   "metadata": {},
   "outputs": [],
   "source": [
    "import os, json\n",
    "import pandas as pd\n",
    "\n",
    "def flatten_fielders(fielders_raw):\n",
    "    if isinstance(fielders_raw, list):\n",
    "        return ', '.join([\n",
    "            f.get('name') for f in fielders_raw\n",
    "            if isinstance(f, dict) and f.get('name')\n",
    "        ])\n",
    "    return None\n",
    "\n",
    "def create_match_dataframe(file_path):\n",
    "    with open(file_path, 'r') as f:\n",
    "        data = json.load(f)\n",
    "    info = data.get(\"info\", {})\n",
    "    match_id = os.path.basename(file_path).split('.')[0]\n",
    "    meta = {\n",
    "        'match_id': match_id,\n",
    "        'match_type': info.get('match_type'),\n",
    "        'gender': info.get('gender'),\n",
    "        'city': info.get('city'),\n",
    "        'venue': info.get('venue'),\n",
    "        'season': info.get('season'),\n",
    "        'event_name': info.get('event', {}).get('name'),\n",
    "        'event_group': info.get('event', {}).get('group'),\n",
    "        'date': info.get('dates', [None])[0],\n",
    "        'balls_per_over': info.get('balls_per_over'),\n",
    "        'player_of_match': ', '.join(info.get('player_of_match', [])),\n",
    "        'toss_winner': info.get('toss', {}).get('winner'),\n",
    "        'toss_decision': info.get('toss', {}).get('decision'),\n",
    "        'winner': info.get('outcome', {}).get('winner'),\n",
    "        'win_by_wickets': info.get('outcome', {}).get('by', {}).get('wickets'),\n",
    "        'teams': ', '.join(info.get('teams', []))\n",
    "    }\n",
    "\n",
    "    deliveries = []\n",
    "    for inning_idx, inning in enumerate(data['innings'], start=1):\n",
    "        team = inning['team']\n",
    "        for over in inning['overs']:\n",
    "            over_num = over['over']\n",
    "            for ball_idx, delivery in enumerate(over['deliveries'], start=1):\n",
    "                runs = delivery.get('runs', {})\n",
    "                extras = delivery.get('extras', {})\n",
    "                wickets = delivery.get('wickets', [])\n",
    "                fielders_raw = wickets[0].get('fielders', []) if wickets and isinstance(wickets[0], dict) else []\n",
    "                fielders = flatten_fielders(fielders_raw)\n",
    "                row = {\n",
    "                    'inning': inning_idx,\n",
    "                    'batting_team': team,\n",
    "                    'over': over_num,\n",
    "                    'ball': ball_idx,\n",
    "                    'batter': delivery.get('batter'),\n",
    "                    'bowler': delivery.get('bowler'),\n",
    "                    'non_striker': delivery.get('non_striker'),\n",
    "                    'runs_batter': runs.get('batter', 0),\n",
    "                    'runs_extras': runs.get('extras', 0),\n",
    "                    'runs_total': runs.get('total', 0),\n",
    "                    'extras_type': list(extras.keys())[0] if extras else None,\n",
    "                    'wicket_kind': wickets[0]['kind'] if wickets else None,\n",
    "                    'player_out': wickets[0]['player_out'] if wickets else None,\n",
    "                    'fielders': fielders\n",
    "                }\n",
    "                row.update(meta)\n",
    "                deliveries.append(row)\n",
    "\n",
    "    return pd.DataFrame(deliveries)"
   ]
  },
  {
   "cell_type": "markdown",
   "id": "6abce2c1-c57d-4530-862d-e6d9d72af006",
   "metadata": {},
   "source": [
    "## Create DataFrames by Match Type"
   ]
  },
  {
   "cell_type": "code",
   "execution_count": 60,
   "id": "3680517a-a6f4-459c-be38-8ededb29a29e",
   "metadata": {},
   "outputs": [],
   "source": [
    "def build_match_df(match_type, path):\n",
    "    records = []\n",
    "    for file in os.listdir(path):\n",
    "        if file.endswith(\".json\"):\n",
    "            full_path = os.path.join(path, file)\n",
    "            record = create_match_dataframe(full_path)\n",
    "            records.append(record)\n",
    "    return pd.concat(records, ignore_index=True)\n",
    "\n",
    "test_df = build_match_df(\"Test\", match_paths[\"Test\"])\n",
    "odi_df = build_match_df(\"ODI\", match_paths[\"ODI\"])\n",
    "t20_df = build_match_df(\"T20\", match_paths[\"T20\"])"
   ]
  },
  {
   "cell_type": "markdown",
   "id": "5fb74cbd-74aa-4b44-9ef8-4fe9cbc233b0",
   "metadata": {},
   "source": [
    "## Insert Data Frame in SQL"
   ]
  },
  {
   "cell_type": "code",
   "execution_count": 61,
   "id": "8e7020bc-4028-4d9f-beb1-05e9aa01575b",
   "metadata": {},
   "outputs": [
    {
     "data": {
      "text/plain": [
       "70908"
      ]
     },
     "execution_count": 61,
     "metadata": {},
     "output_type": "execute_result"
    }
   ],
   "source": [
    "test_df.to_sql(\"test_matches\", con=engine, if_exists=\"replace\", index=False)\n",
    "odi_df.to_sql(\"odi_matches\", con=engine, if_exists=\"replace\", index=False)\n",
    "t20_df.to_sql(\"t20_matches\", con=engine, if_exists=\"replace\", index=False)"
   ]
  },
  {
   "cell_type": "markdown",
   "id": "1b47e5b7-5224-44af-b09f-90480e00674e",
   "metadata": {},
   "source": [
    "# EDA"
   ]
  },
  {
   "cell_type": "code",
   "execution_count": 62,
   "id": "a688de06-1dbe-42ac-8e10-40844c9c68ab",
   "metadata": {},
   "outputs": [
    {
     "name": "stdout",
     "output_type": "stream",
     "text": [
      "Requirement already satisfied: python-pptx in c:\\users\\sanjeev\\anaconda3\\lib\\site-packages (1.0.2)\n",
      "Requirement already satisfied: Pillow>=3.3.2 in c:\\users\\sanjeev\\anaconda3\\lib\\site-packages (from python-pptx) (11.1.0)\n",
      "Requirement already satisfied: XlsxWriter>=0.5.7 in c:\\users\\sanjeev\\anaconda3\\lib\\site-packages (from python-pptx) (3.2.5)\n",
      "Requirement already satisfied: lxml>=3.1.0 in c:\\users\\sanjeev\\anaconda3\\lib\\site-packages (from python-pptx) (5.3.0)\n",
      "Requirement already satisfied: typing-extensions>=4.9.0 in c:\\users\\sanjeev\\anaconda3\\lib\\site-packages (from python-pptx) (4.14.1)\n"
     ]
    }
   ],
   "source": [
    "!pip install python-pptx"
   ]
  },
  {
   "cell_type": "code",
   "execution_count": 71,
   "id": "edba7092-5d46-4deb-a2c5-bae7847185bf",
   "metadata": {},
   "outputs": [
    {
     "name": "stderr",
     "output_type": "stream",
     "text": [
      "C:\\Users\\Sanjeev\\AppData\\Local\\Temp\\ipykernel_70104\\1409091874.py:30: FutureWarning: \n",
      "\n",
      "Passing `palette` without assigning `hue` is deprecated and will be removed in v0.14.0. Assign the `y` variable to `hue` and set `legend=False` for the same effect.\n",
      "\n",
      "  sns.barplot(data=top_batters, x='runs_batter', y='batter', palette='viridis')\n",
      "C:\\Users\\Sanjeev\\AppData\\Local\\Temp\\ipykernel_70104\\1409091874.py:37: FutureWarning: \n",
      "\n",
      "Passing `palette` without assigning `hue` is deprecated and will be removed in v0.14.0. Assign the `y` variable to `hue` and set `legend=False` for the same effect.\n",
      "\n",
      "  sns.barplot(data=top_bowlers, x='wicket_kind', y='bowler', palette='Reds')\n",
      "C:\\Users\\Sanjeev\\AppData\\Local\\Temp\\ipykernel_70104\\1409091874.py:43: FutureWarning: \n",
      "\n",
      "Passing `palette` without assigning `hue` is deprecated and will be removed in v0.14.0. Assign the `x` variable to `hue` and set `legend=False` for the same effect.\n",
      "\n",
      "  sns.countplot(data=df[df['extras_type'].notnull()], x='extras_type', palette='Set2')\n",
      "C:\\Users\\Sanjeev\\AppData\\Local\\Temp\\ipykernel_70104\\1409091874.py:57: FutureWarning: \n",
      "\n",
      "Passing `palette` without assigning `hue` is deprecated and will be removed in v0.14.0. Assign the `y` variable to `hue` and set `legend=False` for the same effect.\n",
      "\n",
      "  sns.barplot(data=venue_runs, x='runs_total', y='venue', palette='magma')\n",
      "C:\\Users\\Sanjeev\\AppData\\Local\\Temp\\ipykernel_70104\\1409091874.py:63: FutureWarning: \n",
      "\n",
      "Passing `palette` without assigning `hue` is deprecated and will be removed in v0.14.0. Assign the `y` variable to `hue` and set `legend=False` for the same effect.\n",
      "\n",
      "  sns.countplot(data=wickets, y='wicket_kind', order=wickets['wicket_kind'].value_counts().index, palette='Spectral')\n",
      "C:\\Users\\Sanjeev\\AppData\\Local\\Temp\\ipykernel_70104\\1409091874.py:72: FutureWarning: \n",
      "\n",
      "Passing `palette` without assigning `hue` is deprecated and will be removed in v0.14.0. Assign the `y` variable to `hue` and set `legend=False` for the same effect.\n",
      "\n",
      "  sns.barplot(data=top_fielders, x='count', y='fielder', palette='cubehelix')\n"
     ]
    }
   ],
   "source": [
    "import pandas as pd\n",
    "import matplotlib.pyplot as plt\n",
    "import seaborn as sns\n",
    "from pptx import Presentation\n",
    "from pptx.util import Inches\n",
    "import os\n",
    "\n",
    "def generate_visualizations(df, output_dir=\"plots\"):\n",
    "    os.makedirs(output_dir, exist_ok=True)\n",
    "    balls_per_over = df['balls_per_over'].iloc[0]\n",
    "\n",
    "    # 1. Run Accumulation Over Innings\n",
    "    df['ball_id'] = df['over'] + df['ball'] / balls_per_over\n",
    "    run_progress = df.groupby(['inning', 'ball_id'])['runs_total'].sum().groupby(level=0).cumsum().reset_index()\n",
    "    plt.figure()\n",
    "    sns.lineplot(data=run_progress, x='ball_id', y='runs_total', hue='inning')\n",
    "    plt.title('Run Accumulation Over Innings')\n",
    "    plt.savefig(f\"{output_dir}/run_accumulation.png\", bbox_inches='tight')\n",
    "\n",
    "    # 2. Wicket Distribution by Over\n",
    "    plt.figure()\n",
    "    wickets = df[df['wicket_kind'].notnull()]\n",
    "    sns.histplot(data=wickets, x='over', hue='inning', multiple='stack', bins=20)\n",
    "    plt.title('Wickets per Over')\n",
    "    plt.savefig(f\"{output_dir}/wickets_per_over.png\", bbox_inches='tight')\n",
    "\n",
    "    # 3. Top Batters\n",
    "    plt.figure()\n",
    "    top_batters = df.groupby('batter')['runs_batter'].sum().nlargest(10).reset_index()\n",
    "    sns.barplot(data=top_batters, x='runs_batter', y='batter', palette='viridis')\n",
    "    plt.title('Top 10 Batters by Runs')\n",
    "    plt.savefig(f\"{output_dir}/top_batters.png\", bbox_inches='tight')\n",
    "\n",
    "    # 4. Top Bowlers\n",
    "    plt.figure()\n",
    "    top_bowlers = df[df['wicket_kind'].notnull()].groupby('bowler')['wicket_kind'].count().nlargest(10).reset_index()\n",
    "    sns.barplot(data=top_bowlers, x='wicket_kind', y='bowler', palette='Reds')\n",
    "    plt.title('Top 10 Bowlers by Wickets')\n",
    "    plt.savefig(f\"{output_dir}/top_bowlers.png\", bbox_inches='tight')\n",
    "\n",
    "    # 5. Extras Breakdown\n",
    "    plt.figure()\n",
    "    sns.countplot(data=df[df['extras_type'].notnull()], x='extras_type', palette='Set2')\n",
    "    plt.title('Extras Distribution by Type')\n",
    "    plt.savefig(f\"{output_dir}/extras_breakdown.png\", bbox_inches='tight')\n",
    "\n",
    "    # 6. Partnership Heatmap\n",
    "    plt.figure(figsize=(10, 8))\n",
    "    partnerships = df.groupby(['batter', 'non_striker'])['runs_total'].sum().unstack().fillna(0)\n",
    "    sns.heatmap(partnerships, cmap='YlGnBu')\n",
    "    plt.title('Partnership Runs Heatmap')\n",
    "    plt.savefig(f\"{output_dir}/partnership_heatmap.png\", bbox_inches='tight')\n",
    "\n",
    "    # 7. Venue-wise Run Totals\n",
    "    plt.figure()\n",
    "    venue_runs = df.groupby('venue')['runs_total'].sum().nlargest(10).reset_index()\n",
    "    sns.barplot(data=venue_runs, x='runs_total', y='venue', palette='magma')\n",
    "    plt.title('Top Venues by Total Runs')\n",
    "    plt.savefig(f\"{output_dir}/venue_runs.png\", bbox_inches='tight')\n",
    "\n",
    "    # 8. Dismissal Types\n",
    "    plt.figure()\n",
    "    sns.countplot(data=wickets, y='wicket_kind', order=wickets['wicket_kind'].value_counts().index, palette='Spectral')\n",
    "    plt.title('Types of Dismissals')\n",
    "    plt.savefig(f\"{output_dir}/dismissal_types.png\", bbox_inches='tight')\n",
    "\n",
    "    # 9. Fielders Involved\n",
    "    plt.figure()\n",
    "    fielders_series = df['fielders'].dropna().explode()\n",
    "    top_fielders = fielders_series.value_counts().nlargest(10).reset_index()\n",
    "    top_fielders.columns = ['fielder', 'count']  # Rename for clarity\n",
    "    sns.barplot(data=top_fielders, x='count', y='fielder', palette='cubehelix')\n",
    "    plt.title('Top Fielders Involved in Dismissals')\n",
    "    plt.savefig(f\"{output_dir}/fielders_involved.png\", bbox_inches='tight')\n",
    "\n",
    "    # 10. Toss Decision vs Outcome\n",
    "    plt.figure()\n",
    "    toss_outcome = df.drop_duplicates('match_id')[['toss_decision', 'winner', 'toss_winner']]\n",
    "    toss_outcome['won_match'] = toss_outcome['toss_winner'] == toss_outcome['winner']\n",
    "    sns.countplot(data=toss_outcome, x='toss_decision', hue='won_match')\n",
    "    plt.title('Toss Decision Impact on Match Outcome')\n",
    "    plt.savefig(f\"{output_dir}/toss_impact.png\", bbox_inches='tight')\n",
    "\n",
    "    plt.close('all')\n",
    "\n",
    "def create_ppt_from_visuals(image_dir=\"plots\", ppt_path=\"Cricket_Analytics_Report.pptx\"):\n",
    "    prs = Presentation()\n",
    "    title_slide_layout = prs.slide_layouts[0]\n",
    "    slide = prs.slides.add_slide(title_slide_layout)\n",
    "    slide.shapes.title.text = \"Cricket Analytics Report\"\n",
    "    slide.placeholders[1].text = \"Generated from delivery-level match data\"\n",
    "\n",
    "    for img_file in sorted(os.listdir(image_dir)):\n",
    "        if img_file.endswith(\".png\"):\n",
    "            slide = prs.slides.add_slide(prs.slide_layouts[5])\n",
    "            slide.shapes.title.text = img_file.replace(\"_\", \" \").replace(\".png\", \"\").title()\n",
    "            slide.shapes.add_picture(os.path.join(image_dir, img_file), Inches(1), Inches(1.5), width=Inches(8))\n",
    "\n",
    "    prs.save(ppt_path)\n",
    "\n",
    "# Usage\n",
    "generate_visualizations(test_df)\n",
    "create_ppt_from_visuals()"
   ]
  },
  {
   "cell_type": "code",
   "execution_count": null,
   "id": "69ffd024-aff8-4ed4-9487-a39a224346ba",
   "metadata": {},
   "outputs": [],
   "source": []
  }
 ],
 "metadata": {
  "kernelspec": {
   "display_name": "Python 3 (ipykernel)",
   "language": "python",
   "name": "python3"
  },
  "language_info": {
   "codemirror_mode": {
    "name": "ipython",
    "version": 3
   },
   "file_extension": ".py",
   "mimetype": "text/x-python",
   "name": "python",
   "nbconvert_exporter": "python",
   "pygments_lexer": "ipython3",
   "version": "3.13.5"
  }
 },
 "nbformat": 4,
 "nbformat_minor": 5
}
