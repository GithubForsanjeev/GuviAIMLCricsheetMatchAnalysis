{
 "cells": [
  {
   "cell_type": "markdown",
   "id": "f2b4ac4e-da2f-440e-a40f-1fd28eb96b38",
   "metadata": {},
   "source": [
    "## SQLITE DATABASE"
   ]
  },
  {
   "cell_type": "markdown",
   "id": "61cdea31-e67d-41f9-813c-87f5820f6793",
   "metadata": {},
   "source": [
    "## Define Paths & Match Formats"
   ]
  },
  {
   "cell_type": "code",
   "execution_count": 1,
   "id": "353739e7-692a-452f-88f3-87aec931742c",
   "metadata": {},
   "outputs": [],
   "source": [
    "import json\n",
    "import sqlite3\n",
    "from pathlib import Path\n",
    "from tqdm import tqdm\n",
    "\n",
    "# Base data folder\n",
    "base_path = Path(\"data\")\n",
    "\n",
    "# Match formats and their folders\n",
    "formats = {\n",
    "    \"Test\": base_path / \"tests_json\",\n",
    "    \"ODI\": base_path / \"odis_json\",\n",
    "    \"T20I\": base_path / \"it20s_json\"\n",
    "}\n",
    "\n",
    "# SQLite DB\n",
    "db_path = \"cricsheet.db\"\n",
    "conn = sqlite3.connect(db_path)\n",
    "cursor = conn.cursor()"
   ]
  },
  {
   "cell_type": "markdown",
   "id": "d9da7c7a-2812-47ce-aaec-055065344671",
   "metadata": {},
   "source": [
    "## Create Normalized Tables"
   ]
  },
  {
   "cell_type": "code",
   "execution_count": 2,
   "id": "571c8b94-cccd-407a-8793-2fe47f8c5477",
   "metadata": {},
   "outputs": [
    {
     "data": {
      "text/plain": [
       "<sqlite3.Cursor at 0x19553ed2940>"
      ]
     },
     "execution_count": 2,
     "metadata": {},
     "output_type": "execute_result"
    }
   ],
   "source": [
    "# Teams\n",
    "cursor.execute(\"\"\"\n",
    "CREATE TABLE IF NOT EXISTS teams (\n",
    "    team_id INTEGER PRIMARY KEY AUTOINCREMENT,\n",
    "    name TEXT UNIQUE\n",
    ")\n",
    "\"\"\")\n",
    "\n",
    "# Players\n",
    "cursor.execute(\"\"\"\n",
    "CREATE TABLE IF NOT EXISTS players (\n",
    "    player_id INTEGER PRIMARY KEY AUTOINCREMENT,\n",
    "    name TEXT UNIQUE\n",
    ")\n",
    "\"\"\")\n",
    "\n",
    "# Matches\n",
    "cursor.execute(\"\"\"\n",
    "CREATE TABLE IF NOT EXISTS matches (\n",
    "    match_id TEXT PRIMARY KEY,\n",
    "    format TEXT,\n",
    "    city TEXT,\n",
    "    date TEXT,\n",
    "    venue TEXT,\n",
    "    toss_winner_id INTEGER,\n",
    "    toss_decision TEXT,\n",
    "    result TEXT,\n",
    "    winner_id INTEGER,\n",
    "    FOREIGN KEY (toss_winner_id) REFERENCES teams(team_id),\n",
    "    FOREIGN KEY (winner_id) REFERENCES teams(team_id)\n",
    ")\n",
    "\"\"\")\n",
    "\n",
    "# Innings\n",
    "cursor.execute(\"\"\"\n",
    "CREATE TABLE IF NOT EXISTS innings (\n",
    "    inning_id INTEGER PRIMARY KEY AUTOINCREMENT,\n",
    "    match_id TEXT,\n",
    "    inning_number INTEGER,\n",
    "    batting_team_id INTEGER,\n",
    "    FOREIGN KEY (match_id) REFERENCES matches(match_id),\n",
    "    FOREIGN KEY (batting_team_id) REFERENCES teams(team_id)\n",
    ")\n",
    "\"\"\")\n",
    "\n",
    "# Deliveries\n",
    "cursor.execute(\"\"\"\n",
    "CREATE TABLE IF NOT EXISTS deliveries (\n",
    "    delivery_id INTEGER PRIMARY KEY AUTOINCREMENT,\n",
    "    inning_id INTEGER,\n",
    "    over INTEGER,\n",
    "    ball INTEGER,\n",
    "    batsman_id INTEGER,\n",
    "    bowler_id INTEGER,\n",
    "    runs INTEGER,\n",
    "    extras INTEGER,\n",
    "    wicket_type TEXT,\n",
    "    FOREIGN KEY (inning_id) REFERENCES innings(inning_id),\n",
    "    FOREIGN KEY (batsman_id) REFERENCES players(player_id),\n",
    "    FOREIGN KEY (bowler_id) REFERENCES players(player_id)\n",
    ")\n",
    "\"\"\")"
   ]
  },
  {
   "cell_type": "markdown",
   "id": "0dc7724d-956f-4aee-a755-5b5f04c217a6",
   "metadata": {},
   "source": [
    "## Utility Functions"
   ]
  },
  {
   "cell_type": "code",
   "execution_count": 3,
   "id": "904b8a2b-6ef9-48c0-aa71-39655ec93030",
   "metadata": {},
   "outputs": [],
   "source": [
    "def get_or_create_team(name):\n",
    "    cursor.execute(\"SELECT team_id FROM teams WHERE name = ?\", (name,))\n",
    "    result = cursor.fetchone()\n",
    "    if result:\n",
    "        return result[0]\n",
    "    cursor.execute(\"INSERT INTO teams (name) VALUES (?)\", (name,))\n",
    "    return cursor.lastrowid\n",
    "\n",
    "def get_or_create_player(name):\n",
    "    cursor.execute(\"SELECT player_id FROM players WHERE name = ?\", (name,))\n",
    "    result = cursor.fetchone()\n",
    "    if result:\n",
    "        return result[0]\n",
    "    cursor.execute(\"INSERT INTO players (name) VALUES (?)\", (name,))\n",
    "    return cursor.lastrowid"
   ]
  },
  {
   "cell_type": "markdown",
   "id": "ed407d41-17b7-421d-9881-5c2afe75d28c",
   "metadata": {},
   "source": [
    "## Ingest JSON Files"
   ]
  },
  {
   "cell_type": "code",
   "execution_count": 4,
   "id": "84f4dfdd-c58e-4c7a-a276-2eba7ed3888d",
   "metadata": {},
   "outputs": [],
   "source": [
    "def insert_match(file_path: Path, match_format: str):\n",
    "    match_id = file_path.stem\n",
    "    with open(file_path, \"r\", encoding=\"utf-8\") as f:\n",
    "        data = json.load(f)\n",
    "\n",
    "    info = data.get(\"info\", {})\n",
    "    teams = info.get(\"teams\", [\"\", \"\"])\n",
    "    team1_id = get_or_create_team(teams[0])\n",
    "    team2_id = get_or_create_team(teams[1])\n",
    "    toss_winner_id = get_or_create_team(info.get(\"toss\", {}).get(\"winner\", \"\"))\n",
    "    winner_id = get_or_create_team(info.get(\"outcome\", {}).get(\"winner\", \"\"))\n",
    "\n",
    "    cursor.execute(\"\"\"\n",
    "    INSERT OR REPLACE INTO matches VALUES (?, ?, ?, ?, ?, ?, ?, ?, ?)\n",
    "    \"\"\", (\n",
    "        match_id,\n",
    "        match_format,\n",
    "        info.get(\"city\"),\n",
    "        info.get(\"dates\", [\"\"])[0],\n",
    "        info.get(\"venue\"),\n",
    "        toss_winner_id,\n",
    "        info.get(\"toss\", {}).get(\"decision\"),\n",
    "        info.get(\"outcome\", {}).get(\"result\"),\n",
    "        winner_id\n",
    "    ))\n",
    "\n",
    "    # Insert innings and deliveries\n",
    "    for inning_num, inning in enumerate(data.get(\"innings\", []), start=1):\n",
    "        batting_team_id = get_or_create_team(inning.get(\"team\"))\n",
    "        cursor.execute(\"\"\"\n",
    "        INSERT INTO innings (match_id, inning_number, batting_team_id)\n",
    "        VALUES (?, ?, ?)\n",
    "        \"\"\", (match_id, inning_num, batting_team_id))\n",
    "        inning_id = cursor.lastrowid\n",
    "\n",
    "        for over_data in inning.get(\"overs\", []):\n",
    "            over = over_data.get(\"over\")\n",
    "            for delivery in over_data.get(\"deliveries\", []):\n",
    "                ball = delivery.get(\"ball\")\n",
    "                batsman_id = get_or_create_player(delivery.get(\"batter\"))\n",
    "                bowler_id = get_or_create_player(delivery.get(\"bowler\"))\n",
    "                runs = delivery.get(\"runs\", {}).get(\"batter\", 0)\n",
    "                extras = delivery.get(\"runs\", {}).get(\"extras\", 0)\n",
    "                wicket_type = delivery.get(\"wickets\", [{}])[0].get(\"kind\") if delivery.get(\"wickets\") else None\n",
    "\n",
    "                cursor.execute(\"\"\"\n",
    "                INSERT INTO deliveries (inning_id, over, ball, batsman_id, bowler_id, runs, extras, wicket_type)\n",
    "                VALUES (?, ?, ?, ?, ?, ?, ?, ?)\n",
    "                \"\"\", (\n",
    "                    inning_id, over, ball, batsman_id, bowler_id, runs, extras, wicket_type\n",
    "                ))"
   ]
  },
  {
   "cell_type": "markdown",
   "id": "41d24acd-044f-4e65-ba74-616cfbb5e124",
   "metadata": {},
   "source": [
    "## Run Ingestion\n"
   ]
  },
  {
   "cell_type": "code",
   "execution_count": 5,
   "id": "c75425a4-791e-48ca-838a-ffa832143e8e",
   "metadata": {},
   "outputs": [
    {
     "name": "stdout",
     "output_type": "stream",
     "text": [
      "Processing Test matches...\n"
     ]
    },
    {
     "name": "stderr",
     "output_type": "stream",
     "text": [
      "100%|██████████| 878/878 [00:48<00:00, 18.29it/s]\n"
     ]
    },
    {
     "name": "stdout",
     "output_type": "stream",
     "text": [
      "Processing ODI matches...\n"
     ]
    },
    {
     "name": "stderr",
     "output_type": "stream",
     "text": [
      "100%|██████████| 2988/2988 [01:06<00:00, 45.17it/s]\n"
     ]
    },
    {
     "name": "stdout",
     "output_type": "stream",
     "text": [
      "Processing T20I matches...\n"
     ]
    },
    {
     "name": "stderr",
     "output_type": "stream",
     "text": [
      "100%|██████████| 320/320 [00:04<00:00, 72.19it/s]\n"
     ]
    },
    {
     "name": "stdout",
     "output_type": "stream",
     "text": [
      "All matches inserted into normalized SQLite database!\n"
     ]
    }
   ],
   "source": [
    "for match_format, folder in formats.items():\n",
    "    print(f\"Processing {match_format} matches...\")\n",
    "    for file_path in tqdm(list(folder.glob(\"*.json\"))):\n",
    "        try:\n",
    "            insert_match(file_path, match_format)\n",
    "        except Exception as e:\n",
    "            print(f\"Error in {file_path.name}: {e}\")\n",
    "\n",
    "conn.commit()\n",
    "conn.close()\n",
    "print(\"All matches inserted into normalized SQLite database!\")"
   ]
  }
 ],
 "metadata": {
  "kernelspec": {
   "display_name": "Python 3 (ipykernel)",
   "language": "python",
   "name": "python3"
  },
  "language_info": {
   "codemirror_mode": {
    "name": "ipython",
    "version": 3
   },
   "file_extension": ".py",
   "mimetype": "text/x-python",
   "name": "python",
   "nbconvert_exporter": "python",
   "pygments_lexer": "ipython3",
   "version": "3.13.5"
  }
 },
 "nbformat": 4,
 "nbformat_minor": 5
}
