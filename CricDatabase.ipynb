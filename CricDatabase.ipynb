{
 "cells": [
  {
   "cell_type": "markdown",
   "id": "f2b4ac4e-da2f-440e-a40f-1fd28eb96b38",
   "metadata": {},
   "source": [
    "## SQLITE DATABASE"
   ]
  },
  {
   "cell_type": "markdown",
   "id": "61cdea31-e67d-41f9-813c-87f5820f6793",
   "metadata": {},
   "source": [
    "## Define Paths & Match Formats"
   ]
  },
  {
   "cell_type": "code",
   "execution_count": 1,
   "id": "353739e7-692a-452f-88f3-87aec931742c",
   "metadata": {},
   "outputs": [],
   "source": [
    "import os, json\n",
    "import pandas as pd\n",
    "import sqlite3\n",
    "from pathlib import Path\n",
    "from sqlalchemy import create_engine\n",
    "\n",
    "engine = create_engine(\"sqlite:///cricket_matches.db\")  \n",
    "\n",
    "\n",
    "match_paths = {\n",
    "    \"Test\": \"data/tests_json/\",\n",
    "    \"ODI\": \"data/odis_json/\",\n",
    "    \"T20\": \"data/it20s_json/\"\n",
    "}\n",
    "\n",
    "\n",
    "# # Base data folder\n",
    "# base_path = Path(\"data\")\n",
    "\n",
    "# # Match formats and their folders\n",
    "# formats = {\n",
    "#     \"Test\": base_path / \"tests_json\",\n",
    "#     \"ODI\": base_path / \"odis_json\",\n",
    "#     \"T20I\": base_path / \"it20s_json\"\n",
    "# }\n",
    "\n",
    "# # SQLite DB\n",
    "# db_path = \"cricsheet.db\"\n",
    "# conn = sqlite3.connect(db_path)\n",
    "# cursor = conn.cursor()"
   ]
  },
  {
   "cell_type": "markdown",
   "id": "cb122e06-bbd5-47eb-be66-f4ff4b2397bd",
   "metadata": {},
   "source": [
    "## Parse JSON into DataFrames"
   ]
  },
  {
   "cell_type": "code",
   "execution_count": 2,
   "id": "ea2c056e-4fb5-41d4-b3bc-af0727eeb70f",
   "metadata": {},
   "outputs": [],
   "source": [
    "import os, json\n",
    "import pandas as pd\n",
    "\n",
    "def parse_match_json(file_path):\n",
    "    with open(file_path, 'r') as f:\n",
    "        data = json.load(f)\n",
    "    info = data.get(\"info\", {})\n",
    "    return {\n",
    "        \"match_id\": os.path.basename(file_path).split('.')[0],\n",
    "        \"date\": info.get(\"dates\", [None])[0],\n",
    "        \"venue\": info.get(\"venue\"),\n",
    "        \"city\": info.get(\"city\"),\n",
    "        \"teams\": \", \".join(info.get(\"teams\", [])),\n",
    "        \"winner\": info.get(\"outcome\", {}).get(\"winner\"),\n",
    "        \"match_type\": info.get(\"match_type\"),\n",
    "        \"player_of_match\": \", \".join(info.get(\"player_of_match\", [])),\n",
    "        \"overs\": info.get(\"overs\"),\n",
    "        \"gender\": info.get(\"gender\")\n",
    "    }"
   ]
  },
  {
   "cell_type": "markdown",
   "id": "6abce2c1-c57d-4530-862d-e6d9d72af006",
   "metadata": {},
   "source": [
    "## Create DataFrames by Match Type"
   ]
  },
  {
   "cell_type": "code",
   "execution_count": 3,
   "id": "3680517a-a6f4-459c-be38-8ededb29a29e",
   "metadata": {},
   "outputs": [],
   "source": [
    "def build_match_df(match_type, path):\n",
    "    records = []\n",
    "    for file in os.listdir(path):\n",
    "        if file.endswith(\".json\"):\n",
    "            full_path = os.path.join(path, file)\n",
    "            record = parse_match_json(full_path)\n",
    "            records.append(record)\n",
    "    return pd.DataFrame(records)\n",
    "\n",
    "test_df = build_match_df(\"Test\", match_paths[\"Test\"])\n",
    "odi_df = build_match_df(\"ODI\", match_paths[\"ODI\"])\n",
    "t20_df = build_match_df(\"T20\", match_paths[\"T20\"])"
   ]
  },
  {
   "cell_type": "markdown",
   "id": "5fb74cbd-74aa-4b44-9ef8-4fe9cbc233b0",
   "metadata": {},
   "source": [
    "## Insert Data Frame in SQL"
   ]
  },
  {
   "cell_type": "code",
   "execution_count": 4,
   "id": "8e7020bc-4028-4d9f-beb1-05e9aa01575b",
   "metadata": {},
   "outputs": [
    {
     "data": {
      "text/plain": [
       "320"
      ]
     },
     "execution_count": 4,
     "metadata": {},
     "output_type": "execute_result"
    }
   ],
   "source": [
    "test_df.to_sql(\"test_matches\", con=engine, if_exists=\"replace\", index=False)\n",
    "odi_df.to_sql(\"odi_matches\", con=engine, if_exists=\"replace\", index=False)\n",
    "t20_df.to_sql(\"t20_matches\", con=engine, if_exists=\"replace\", index=False)"
   ]
  }
 ],
 "metadata": {
  "kernelspec": {
   "display_name": "Python 3 (ipykernel)",
   "language": "python",
   "name": "python3"
  },
  "language_info": {
   "codemirror_mode": {
    "name": "ipython",
    "version": 3
   },
   "file_extension": ".py",
   "mimetype": "text/x-python",
   "name": "python",
   "nbconvert_exporter": "python",
   "pygments_lexer": "ipython3",
   "version": "3.13.5"
  }
 },
 "nbformat": 4,
 "nbformat_minor": 5
}
