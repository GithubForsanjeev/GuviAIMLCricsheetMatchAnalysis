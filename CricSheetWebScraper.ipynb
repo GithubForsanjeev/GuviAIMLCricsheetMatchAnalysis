{
 "cells": [
  {
   "cell_type": "markdown",
   "id": "b83254f6-16cb-473e-add5-2284c1fd7585",
   "metadata": {},
   "source": [
    "## CricSheetWebScraapper"
   ]
  },
  {
   "cell_type": "code",
   "execution_count": 2,
   "id": "080a5d9c-e3ac-4cba-b760-341f7cacc5ac",
   "metadata": {},
   "outputs": [
    {
     "name": "stdout",
     "output_type": "stream",
     "text": [
      "Requirement already satisfied: selenium in c:\\users\\sanjeev\\anaconda3\\lib\\site-packages (4.35.0)\n",
      "Requirement already satisfied: urllib3<3.0,>=2.5.0 in c:\\users\\sanjeev\\anaconda3\\lib\\site-packages (from urllib3[socks]<3.0,>=2.5.0->selenium) (2.5.0)\n",
      "Requirement already satisfied: trio~=0.30.0 in c:\\users\\sanjeev\\anaconda3\\lib\\site-packages (from selenium) (0.30.0)\n",
      "Requirement already satisfied: trio-websocket~=0.12.2 in c:\\users\\sanjeev\\anaconda3\\lib\\site-packages (from selenium) (0.12.2)\n",
      "Requirement already satisfied: certifi>=2025.6.15 in c:\\users\\sanjeev\\anaconda3\\lib\\site-packages (from selenium) (2025.8.3)\n",
      "Requirement already satisfied: typing_extensions~=4.14.0 in c:\\users\\sanjeev\\anaconda3\\lib\\site-packages (from selenium) (4.14.1)\n",
      "Requirement already satisfied: websocket-client~=1.8.0 in c:\\users\\sanjeev\\anaconda3\\lib\\site-packages (from selenium) (1.8.0)\n",
      "Requirement already satisfied: attrs>=23.2.0 in c:\\users\\sanjeev\\anaconda3\\lib\\site-packages (from trio~=0.30.0->selenium) (24.3.0)\n",
      "Requirement already satisfied: sortedcontainers in c:\\users\\sanjeev\\anaconda3\\lib\\site-packages (from trio~=0.30.0->selenium) (2.4.0)\n",
      "Requirement already satisfied: idna in c:\\users\\sanjeev\\anaconda3\\lib\\site-packages (from trio~=0.30.0->selenium) (3.7)\n",
      "Requirement already satisfied: outcome in c:\\users\\sanjeev\\anaconda3\\lib\\site-packages (from trio~=0.30.0->selenium) (1.3.0.post0)\n",
      "Requirement already satisfied: sniffio>=1.3.0 in c:\\users\\sanjeev\\anaconda3\\lib\\site-packages (from trio~=0.30.0->selenium) (1.3.0)\n",
      "Requirement already satisfied: cffi>=1.14 in c:\\users\\sanjeev\\anaconda3\\lib\\site-packages (from trio~=0.30.0->selenium) (1.17.1)\n",
      "Requirement already satisfied: wsproto>=0.14 in c:\\users\\sanjeev\\anaconda3\\lib\\site-packages (from trio-websocket~=0.12.2->selenium) (1.2.0)\n",
      "Requirement already satisfied: pysocks!=1.5.7,<2.0,>=1.5.6 in c:\\users\\sanjeev\\anaconda3\\lib\\site-packages (from urllib3[socks]<3.0,>=2.5.0->selenium) (1.7.1)\n",
      "Requirement already satisfied: pycparser in c:\\users\\sanjeev\\anaconda3\\lib\\site-packages (from cffi>=1.14->trio~=0.30.0->selenium) (2.21)\n",
      "Requirement already satisfied: h11<1,>=0.9.0 in c:\\users\\sanjeev\\anaconda3\\lib\\site-packages (from wsproto>=0.14->trio-websocket~=0.12.2->selenium) (0.16.0)\n"
     ]
    }
   ],
   "source": [
    "!pip install selenium"
   ]
  },
  {
   "cell_type": "code",
   "execution_count": 9,
   "id": "1da1117a-8962-4889-b372-7bccdb695b7f",
   "metadata": {},
   "outputs": [
    {
     "name": "stdout",
     "output_type": "stream",
     "text": [
      "Downloading tests_json.zip...\n",
      "Extracting tests_json.zip...\n",
      "Downloading odis_json.zip...\n",
      "Extracting odis_json.zip...\n",
      "Downloading it20s_json.zip...\n",
      "Extracting it20s_json.zip...\n",
      "Deleted: it20s_json.zip\n",
      "Deleted: odis_json.zip\n",
      "Deleted: tests_json.zip\n"
     ]
    }
   ],
   "source": [
    "import os\n",
    "import requests\n",
    "from zipfile import ZipFile\n",
    "from pathlib import Path\n",
    "from selenium import webdriver\n",
    "from selenium.webdriver.chrome.service import Service\n",
    "from selenium.webdriver.common.by import By\n",
    "\n",
    "# Get current notebook directory\n",
    "NOTEBOOK_DIR = Path().resolve()\n",
    "\n",
    "# Launch Selenium browser\n",
    "def launch_browser():\n",
    "    options = webdriver.ChromeOptions()\n",
    "    options.add_argument(\"--headless\")  # Run in background\n",
    "    driver = webdriver.Chrome(options=options)\n",
    "    return driver\n",
    "\n",
    "# Scrape zip links using Selenium for json\n",
    "def get_match_links_selenium(url=\"https://cricsheet.org/matches/\"):\n",
    "    driver = launch_browser()\n",
    "    driver.get(url)\n",
    "\n",
    "    links = driver.find_elements(By.TAG_NAME, \"a\")\n",
    "    match_links = {\"test\": None, \"odi\": None, \"t20\": None}\n",
    "\n",
    "    for link in links:\n",
    "        href = link.get_attribute(\"href\")\n",
    "        if href and href.endswith(\"json.zip\"):\n",
    "            for match_type in match_links:\n",
    "                if match_type in href.lower():\n",
    "                    match_links[match_type] = href\n",
    "\n",
    "    driver.quit()\n",
    "    return match_links\n",
    "\n",
    "# Download zip file\n",
    "def download_zip(url, save_dir):\n",
    "    filename = url.split(\"/\")[-1]\n",
    "    zip_path = save_dir / filename\n",
    "\n",
    "    print(f\"Downloading {filename}...\")\n",
    "    response = requests.get(url)\n",
    "    with open(zip_path, \"wb\") as f:\n",
    "        f.write(response.content)\n",
    "\n",
    "    return zip_path\n",
    "\n",
    "# Extract zip file\n",
    "def extract_zip(zip_path, extract_to):\n",
    "    print(f\"Extracting {zip_path.name}...\")\n",
    "    with ZipFile(zip_path, \"r\") as zip_ref:\n",
    "        folder_name = extract_to / zip_path.stem\n",
    "        folder_name.mkdir(exist_ok=True)\n",
    "        zip_ref.extractall(folder_name)\n",
    "\n",
    "# delete the zip files\n",
    "def delete_zip_files(folder_path):\n",
    "    zip_files = list(folder_path.glob(\"*.zip\"))\n",
    "    if not zip_files:\n",
    "        print(\"No zip files found to delete.\")\n",
    "        return\n",
    "\n",
    "    for zip_file in zip_files:\n",
    "        try:\n",
    "            zip_file.unlink()\n",
    "            print(f\"Deleted: {zip_file.name}\")\n",
    "        except Exception as e:\n",
    "            print(f\"Error deleting {zip_file.name}: {e}\")\n",
    "\n",
    "# Main orchestrator\n",
    "def main():\n",
    "    zipDir = NOTEBOOK_DIR/\"data\"\n",
    "    match_links = get_match_links_selenium()\n",
    "    for match_type, url in match_links.items():\n",
    "        if url:\n",
    "            zip_path = download_zip(url, zipDir)\n",
    "            extract_zip(zip_path, zipDir)\n",
    "        else:\n",
    "            print(f\"No zip found for {match_type}\")\n",
    "\n",
    "    delete_zip_files(zipDir)\n",
    "\n",
    "# Run the workflow\n",
    "main()"
   ]
  },
  {
   "cell_type": "code",
   "execution_count": null,
   "id": "65d625fd-fae8-4f36-ba6c-8493127d495f",
   "metadata": {},
   "outputs": [],
   "source": []
  }
 ],
 "metadata": {
  "kernelspec": {
   "display_name": "Python 3 (ipykernel)",
   "language": "python",
   "name": "python3"
  },
  "language_info": {
   "codemirror_mode": {
    "name": "ipython",
    "version": 3
   },
   "file_extension": ".py",
   "mimetype": "text/x-python",
   "name": "python",
   "nbconvert_exporter": "python",
   "pygments_lexer": "ipython3",
   "version": "3.13.5"
  }
 },
 "nbformat": 4,
 "nbformat_minor": 5
}
